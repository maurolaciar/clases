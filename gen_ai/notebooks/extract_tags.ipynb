{
 "cells": [
  {
   "cell_type": "code",
   "execution_count": 1,
   "metadata": {},
   "outputs": [],
   "source": [
    "#Ejecutar el siguiente comando en una terminal y auntenticarse con el web browser para poder ejecutar el código\n",
    "#gcloud auth application-default login\n",
    "#ver donde guarda las credenciales, ejemplo: Credentials saved to file: [/home/mlaciar/.config/gcloud/application_default_credentials.json]\n",
    "#export GOOGLE_APPLICATION_CREDENTIALS=\"/home/mlaciar/.config/gcloud/application_default_credentials.json\"\n",
    "#echo $GOOGLE_APPLICATION_CREDENTIALS"
   ]
  },
  {
   "cell_type": "code",
   "execution_count": 2,
   "metadata": {},
   "outputs": [],
   "source": [
    "import base64\n",
    "import vertexai\n",
    "from vertexai.generative_models import GenerativeModel, Part, FinishReason\n",
    "import vertexai.preview.generative_models as generative_models"
   ]
  },
  {
   "cell_type": "code",
   "execution_count": 3,
   "metadata": {},
   "outputs": [
    {
     "name": "stdout",
     "output_type": "stream",
     "text": [
      "/home/mlaciar/python_projects/caece/gen_ai/notebooks\n"
     ]
    }
   ],
   "source": [
    "#print working directory\n",
    "import os\n",
    "print(os.getcwd())"
   ]
  },
  {
   "cell_type": "code",
   "execution_count": 4,
   "metadata": {},
   "outputs": [],
   "source": [
    "def generate(generation_config, safety_settings, system_instruction, prompt):\n",
    "  vertexai.init(project=\"big7-427201\", location=\"us-central1\")\n",
    "  model = GenerativeModel(\n",
    "    \"gemini-1.5-pro-001\",\n",
    "    system_instruction=[\n",
    "      system_instruction\n",
    "    ],\n",
    "  )\n",
    "  responses = model.generate_content(\n",
    "      [prompt],\n",
    "      generation_config=generation_config,\n",
    "      safety_settings=safety_settings,\n",
    "      stream=False,\n",
    "  )\n",
    "  collected_responses = []\n",
    "  #for response in responses:\n",
    "  print(responses.text, end=\"\")\n",
    "  collected_responses.append(responses.text)\n",
    "    \n",
    "  return collected_responses"
   ]
  },
  {
   "cell_type": "code",
   "execution_count": 5,
   "metadata": {},
   "outputs": [],
   "source": [
    "system_instruction = \"\"\"\n",
    "    Sos un economista experto en análisis de datos.\n",
    "    Tu tarea es procesar un documento y extraer las principales tags.\n",
    "    El documento es un informe sobre la economía de Argentina.\n",
    "    El output tiene que ser un string de tags separadas por comas.\n",
    "    \"\"\"\n",
    "\n",
    "generation_config = {\n",
    "    \"max_output_tokens\": 8192,\n",
    "    \"temperature\": 0.0,\n",
    "    \"top_p\": 0.95,\n",
    "}\n",
    "\n",
    "safety_settings = {\n",
    "    generative_models.HarmCategory.HARM_CATEGORY_HATE_SPEECH: generative_models.HarmBlockThreshold.BLOCK_ONLY_HIGH,\n",
    "    generative_models.HarmCategory.HARM_CATEGORY_DANGEROUS_CONTENT: generative_models.HarmBlockThreshold.BLOCK_ONLY_HIGH,\n",
    "    generative_models.HarmCategory.HARM_CATEGORY_SEXUALLY_EXPLICIT: generative_models.HarmBlockThreshold.BLOCK_ONLY_HIGH,\n",
    "    generative_models.HarmCategory.HARM_CATEGORY_HARASSMENT: generative_models.HarmBlockThreshold.BLOCK_ONLY_HIGH,\n",
    "}"
   ]
  },
  {
   "cell_type": "code",
   "execution_count": 6,
   "metadata": {},
   "outputs": [
    {
     "name": "stdout",
     "output_type": "stream",
     "text": [
      "['Informe Política Monetaria', 'Octubre de 2023', '1. Política monetaria: evaluación y perspectivas', 'La economía global ha tendido a desacelerarse en los últimos meses. Con la inflación núcleo persistiendo en muchas economías avanzadas y cediendo en buena parte de las emergentes, los bancos centrales de las primeras mantuvieron, o incluso subieron, las tasas de interés de referencia; mientras que, los de las segundas comenzaron a reducirlas, especialmente en Latinoamérica. Ello impactó sobre los flujos de capitales hacia las economías emergentes, que perdieron dinamismo, con su consecuente impacto sobre las monedas. Asimismo, el dólar estadounidense se ha apreciado en el margen presionando a la baja a los precios de las materias primas agropecuarias, mientras que el petróleo se fortalece ante las restricciones de oferta.', 'En Argentina la actividad económica se contrajo en el segundo trimestre del año, como consecuencia de la severa sequía que afectó principalmente la cosecha gruesa, tal como se había anticipado en el IPOM anterior. Por su parte, el nivel de actividad del conjunto de los sectores no agropecuarios se mantuvo estable respecto al primer trimestre y también en términos interanuales, con las actividades más vinculadas al agro contrayéndose y el resto creciendo. El empleo formal en los sectores no agropecuarios continuó aumentando. La demanda interna se mantuvo relativamente estable respecto al primer trimestre, con cierta heterogeneidad entre sus componentes. La contracción de las exportaciones netas, caída de existencias, ambas afectadas por la sequía, y la merma en el consumo privado fueron parcialmente contrarrestadas por el aumento de la inversión. Hacia delante se espera que el conjunto de políticas de refuerzo de ingresos implementadas por el Gobierno Nacional contribuya a sostener la demanda interna, en un contexto de elevada inflación e incertidumbre asociada al período electoral.', 'La sequía también provocó una fuerte caída en flujos comerciales del exterior, con una pérdida estimada en torno a US$20.000 millones, y de la recaudación por derechos de exportación, que se redujo en 0,6% del PIB. Con el objetivo de contribuir a una mejora en el saldo comercial y favorecer la acumulación de reservas internacionales, así como también fortalecer los recursos fiscales, desde mediados de julio el Gobierno Nacional y el BCRA impulsaron un conjunto medidas impositivas y cambiarias. Entre ellas se destacaron la recalibración del tipo de cambio oficial a un valor de $/US$350, la ampliación del impuesto PAIS a la importación de otros bienes y servicios y una serie de modificaciones al Programa de Incremento Exportador (PIE).', 'En este contexto y ante la necesidad de atender oportunamente los pagos de los servicios de la deuda con el Fondo Monetario Internacional (FMI), dada la demora en los desembolsos correspondientes a la quinta revisión del Programa de Facilidades Extendidas (PFE), el BCRA debió asistir financieramente de manera transitoria y extraordinaria al Tesoro Nacional. Además, para hacer frente a los compromisos de fines de julio y principios de agosto se recurrió a fuentes extraordinarias de fondeo (la colocación de una letra intransferible al BCRA, financiamiento de la CAF y un préstamo bilateral con el Estado de Catar). Estas operaciones permitieron cumplir en tiempo y forma con los servicios de la deuda con el organismo multilateral de crédito hasta la aprobación conjunta de la quinta y sexta revisión del PFE. En la misma se ajustó la meta de reservas internacionales, reflejando el impacto de la sequía y manteniendo un elevado esfuerzo de acumulación en el resto del año. Por otro lado, se incrementó de 0,6 a 0,8% del PIB el límite de financiamiento monetario al Tesoro; al tiempo que se mantuvo la meta de déficit fiscal primario del Sector Público No Financiero.', 'Tras la aprobación de la revisión del PFE, el 23 de agosto el organismo realizó un desembolso de 5.500 millones de DEGs (unos US$7.300 millones) y se comenzaron a revertir los mecanismos de financiamiento puente mencionados anteriormente. Ese mismo día se cancelaron $0,5 billones de Adelantos transitorios netos. También se canceló el préstamo con el Estado de Catar y el Gobierno Nacional decidió adelantar el pago de septiembre al FMI por 687,5 millones de DEGs (unos US$ 910 millones).', 'La inflación de los últimos meses reflejó el impacto de la mayor volatilidad financiera y de las diversas medidas orientadas a compensar las consecuencias de la sequía en los recursos fiscales y en las reservas internacionales, entre las que se destacó la recalibración del tipo de cambio oficial. El efecto en precios se habría concentrado fundamentalmente en agosto y septiembre, con una inflación promedio mensual en torno al 12%. Sin embargo, la inflación mostró una tendencia a la baja desde la primera semana de septiembre y se espera para octubre una marcada reducción en la tasa de inflación mensual. La desaceleración de la inflación de las últimas semanas respondió mayormente a una serie de medidas implementadas por el Gobierno Nacional y el BCRA.', 'El Gobierno Nacional renovó los acuerdos de precios en el marco del programa Precios Justos —acotando el ritmo de suba de productos de la canasta básica y estabilizando los precios de los medicamentos—. Asimismo, dispuso el congelamiento transitorio de precios de ciertos productos regulados —como las naftas y las cuotas de medicina prepaga— y postergó el incremento en las tarifas de trenes, colectivos, gas y electricidad.', 'El BCRA, por su parte, readecuó la tasa de interés de política monetaria con el objetivo de morigerar el traslado a precios de la recalibración del tipo de cambio oficial. Específicamente, dispuso elevar en 21 p.p. la tasa de interés de la LELIQ a 28 días de plazo, llevándola a 118% n.a. (209,4% e.a.). Asimismo, elevó la tasa de interés mínima garantizada para las colocaciones de personas humanas a un rendimiento efectivo mensual de 9,7%. De este modo, se buscó propender hacia retornos reales positivos sobre las inversiones en moneda local y contribuir al equilibrio financiero y cambiario.', 'Por otro lado, el BCRA continuó utilizando su capacidad de intervención a través de operaciones de mercado abierto, a los efectos de acotar la volatilidad y auspiciar una mayor liquidez, profundidad y transparencia de los mercados de deuda soberana. Asimismo, mantuvo su política de crédito focalizada en el desarrollo productivo a través de Línea de Financiamiento a la Inversión Productiva (LFIP). Esta herramienta permitió que el financiamiento bancario a las empresas de menor tamaño relativo se ubique por encima del registro previo a la pandemia y del promedio histórico.', 'En los próximos meses, el BCRA continuará calibrando sus políticas en un contexto de mayor volatilidad en los mercados financieros asociado al período electoral. En materia de tasas de interés, actuará dentro de su objetivo estructural de propender hacia retornos reales positivos sobre las inversiones en moneda local y favorecer la acumulación de reservas. Asimismo, el BCRA continuará interviniendo en los mercados secundarios de deuda pública con el fin de evitar una excesiva volatilidad que comprometa la estabilidad financiera y cambiaria, y mantendrá una administración prudente de los agregados monetarios, esterilizando eventuales excedentes de liquidez, de manera de preservar el equilibrio monetario. Por último, en pos de seguir apoyando la expansión de la actividad económica, el BCRA continuará estimulando el crédito, en particular aquel vinculado al desarrollo productivo a través de la Línea de Financiamiento para la Inversión Productiva.']\n"
     ]
    }
   ],
   "source": [
    "import re\n",
    "# Step 1: Open the text file for reading\n",
    "with open(\"tu_documento.txt\", \"r\") as file:\n",
    "    # Step 2: Read the entire content into a string variable\n",
    "    content = file.read()\n",
    "\n",
    "# Step 3: Split the content by paragraphs break\n",
    "parts = re.split(r'\\n+', content)\n",
    "\n",
    "# Step 4: Remove the first element if it's empty\n",
    "if parts[0].strip() == \"\":\n",
    "    parts.pop(0)\n",
    "\n",
    "# Now, 'parts' contains the divided text stored in an array\n",
    "parts = [re.sub(r'\\n+', '.', part).strip() for part in parts]\n",
    "\n",
    "print(parts)\n",
    "    "
   ]
  },
  {
   "cell_type": "code",
   "execution_count": 7,
   "metadata": {},
   "outputs": [
    {
     "name": "stdout",
     "output_type": "stream",
     "text": [
      "Informe Política Monetaria\n",
      "Octubre de 2023\n",
      "1. Política monetaria: evaluación y perspectivas\n",
      "La economía global ha tendido a desacelerarse en los últimos meses. Con la inflación núcleo persistiendo en muchas economías avanzadas y cediendo en buena parte de las emergentes, los bancos centrales de las primeras mantuvieron, o incluso subieron, las tasas de interés de referencia; mientras que, los de las segundas comenzaron a reducirlas, especialmente en Latinoamérica. Ello impactó sobre los flujos de capitales hacia las economías emergentes, que perdieron dinamismo, con su consecuente impacto sobre las monedas. Asimismo, el dólar estadounidense se ha apreciado en el margen presionando a la baja a los precios de las materias primas agropecuarias, mientras que el petróleo se fortalece ante las restricciones de oferta.\n",
      "En Argentina la actividad económica se contrajo en el segundo trimestre del año, como consecuencia de la severa sequía que afectó principalmente la cosecha gruesa, tal como se había anticipado en el IPOM anterior. Por su parte, el nivel de actividad del conjunto de los sectores no agropecuarios se mantuvo estable respecto al primer trimestre y también en términos interanuales, con las actividades más vinculadas al agro contrayéndose y el resto creciendo. El empleo formal en los sectores no agropecuarios continuó aumentando. La demanda interna se mantuvo relativamente estable respecto al primer trimestre, con cierta heterogeneidad entre sus componentes. La contracción de las exportaciones netas, caída de existencias, ambas afectadas por la sequía, y la merma en el consumo privado fueron parcialmente contrarrestadas por el aumento de la inversión. Hacia delante se espera que el conjunto de políticas de refuerzo de ingresos implementadas por el Gobierno Nacional contribuya a sostener la demanda interna, en un contexto de elevada inflación e incertidumbre asociada al período electoral.\n",
      "La sequía también provocó una fuerte caída en flujos comerciales del exterior, con una pérdida estimada en torno a US$20.000 millones, y de la recaudación por derechos de exportación, que se redujo en 0,6% del PIB. Con el objetivo de contribuir a una mejora en el saldo comercial y favorecer la acumulación de reservas internacionales, así como también fortalecer los recursos fiscales, desde mediados de julio el Gobierno Nacional y el BCRA impulsaron un conjunto medidas impositivas y cambiarias. Entre ellas se destacaron la recalibración del tipo de cambio oficial a un valor de $/US$350, la ampliación del impuesto PAIS a la importación de otros bienes y servicios y una serie de modificaciones al Programa de Incremento Exportador (PIE).\n",
      "En este contexto y ante la necesidad de atender oportunamente los pagos de los servicios de la deuda con el Fondo Monetario Internacional (FMI), dada la demora en los desembolsos correspondientes a la quinta revisión del Programa de Facilidades Extendidas (PFE), el BCRA debió asistir financieramente de manera transitoria y extraordinaria al Tesoro Nacional. Además, para hacer frente a los compromisos de fines de julio y principios de agosto se recurrió a fuentes extraordinarias de fondeo (la colocación de una letra intransferible al BCRA, financiamiento de la CAF y un préstamo bilateral con el Estado de Catar). Estas operaciones permitieron cumplir en tiempo y forma con los servicios de la deuda con el organismo multilateral de crédito hasta la aprobación conjunta de la quinta y sexta revisión del PFE. En la misma se ajustó la meta de reservas internacionales, reflejando el impacto de la sequía y manteniendo un elevado esfuerzo de acumulación en el resto del año. Por otro lado, se incrementó de 0,6 a 0,8% del PIB el límite de financiamiento monetario al Tesoro; al tiempo que se mantuvo la meta de déficit fiscal primario del Sector Público No Financiero.\n",
      "Tras la aprobación de la revisión del PFE, el 23 de agosto el organismo realizó un desembolso de 5.500 millones de DEGs (unos US$7.300 millones) y se comenzaron a revertir los mecanismos de financiamiento puente mencionados anteriormente. Ese mismo día se cancelaron $0,5 billones de Adelantos transitorios netos. También se canceló el préstamo con el Estado de Catar y el Gobierno Nacional decidió adelantar el pago de septiembre al FMI por 687,5 millones de DEGs (unos US$ 910 millones).\n",
      "La inflación de los últimos meses reflejó el impacto de la mayor volatilidad financiera y de las diversas medidas orientadas a compensar las consecuencias de la sequía en los recursos fiscales y en las reservas internacionales, entre las que se destacó la recalibración del tipo de cambio oficial. El efecto en precios se habría concentrado fundamentalmente en agosto y septiembre, con una inflación promedio mensual en torno al 12%. Sin embargo, la inflación mostró una tendencia a la baja desde la primera semana de septiembre y se espera para octubre una marcada reducción en la tasa de inflación mensual. La desaceleración de la inflación de las últimas semanas respondió mayormente a una serie de medidas implementadas por el Gobierno Nacional y el BCRA.\n",
      "El Gobierno Nacional renovó los acuerdos de precios en el marco del programa Precios Justos —acotando el ritmo de suba de productos de la canasta básica y estabilizando los precios de los medicamentos—. Asimismo, dispuso el congelamiento transitorio de precios de ciertos productos regulados —como las naftas y las cuotas de medicina prepaga— y postergó el incremento en las tarifas de trenes, colectivos, gas y electricidad.\n",
      "El BCRA, por su parte, readecuó la tasa de interés de política monetaria con el objetivo de morigerar el traslado a precios de la recalibración del tipo de cambio oficial. Específicamente, dispuso elevar en 21 p.p. la tasa de interés de la LELIQ a 28 días de plazo, llevándola a 118% n.a. (209,4% e.a.). Asimismo, elevó la tasa de interés mínima garantizada para las colocaciones de personas humanas a un rendimiento efectivo mensual de 9,7%. De este modo, se buscó propender hacia retornos reales positivos sobre las inversiones en moneda local y contribuir al equilibrio financiero y cambiario.\n",
      "Por otro lado, el BCRA continuó utilizando su capacidad de intervención a través de operaciones de mercado abierto, a los efectos de acotar la volatilidad y auspiciar una mayor liquidez, profundidad y transparencia de los mercados de deuda soberana. Asimismo, mantuvo su política de crédito focalizada en el desarrollo productivo a través de Línea de Financiamiento a la Inversión Productiva (LFIP). Esta herramienta permitió que el financiamiento bancario a las empresas de menor tamaño relativo se ubique por encima del registro previo a la pandemia y del promedio histórico.\n",
      "En los próximos meses, el BCRA continuará calibrando sus políticas en un contexto de mayor volatilidad en los mercados financieros asociado al período electoral. En materia de tasas de interés, actuará dentro de su objetivo estructural de propender hacia retornos reales positivos sobre las inversiones en moneda local y favorecer la acumulación de reservas. Asimismo, el BCRA continuará interviniendo en los mercados secundarios de deuda pública con el fin de evitar una excesiva volatilidad que comprometa la estabilidad financiera y cambiaria, y mantendrá una administración prudente de los agregados monetarios, esterilizando eventuales excedentes de liquidez, de manera de preservar el equilibrio monetario. Por último, en pos de seguir apoyando la expansión de la actividad económica, el BCRA continuará estimulando el crédito, en particular aquel vinculado al desarrollo productivo a través de la Línea de Financiamiento para la Inversión Productiva.\n"
     ]
    }
   ],
   "source": [
    "for part in parts:\n",
    "    print(part)"
   ]
  },
  {
   "cell_type": "code",
   "execution_count": 9,
   "metadata": {},
   "outputs": [
    {
     "name": "stderr",
     "output_type": "stream",
     "text": [
      "WARNING: All log messages before absl::InitializeLog() is called are written to STDERR\n",
      "I0000 00:00:1730930083.193697    3164 config.cc:230] gRPC experiments enabled: call_status_override_on_cancellation, event_engine_dns, event_engine_listener, http2_stats_fix, monitoring_experiment, pick_first_new, trace_record_callops, work_serializer_clears_time_cache\n",
      "I0000 00:00:1730930083.199994    3164 check_gcp_environment.cc:61] BIOS data file does not exist or cannot be opened.\n"
     ]
    },
    {
     "name": "stdout",
     "output_type": "stream",
     "text": [
      "Argentina, Economía, Política Monetaria, Inflación, Tasa de Interés, Reservas Internacionales, FMI, Deuda, Sequía, Tipo de Cambio, Comercio Exterior,  Déficit Fiscal, PIB,  Empleo, Demanda Interna,  Inversión,  Consumo Privado,  Exportaciones, Importaciones,  BCRA,  Gobierno Nacional,  Precios Justos,  LFIP,  LELIQ,  Mercado Cambiario,  Mercado Financiero,  Volatilidad Financiera. \n"
     ]
    }
   ],
   "source": [
    "tags = generate(generation_config=generation_config, safety_settings=safety_settings,system_instruction=system_instruction, prompt=content)"
   ]
  },
  {
   "cell_type": "code",
   "execution_count": 10,
   "metadata": {},
   "outputs": [],
   "source": [
    "# transformar la lista de listas en una unica string\n",
    "# tags_str = [tag for sublist in l_tags for tag in sublist]\n",
    "# tags_str = ', '.join(tags)\n",
    "# print(tags_str)\n"
   ]
  },
  {
   "cell_type": "code",
   "execution_count": 11,
   "metadata": {},
   "outputs": [],
   "source": [
    "# Save the lectures in a text file\n",
    "with open(\"tags.txt\", \"w\") as file:\n",
    "    for tags in tags:\n",
    "        file.write(tags)"
   ]
  },
  {
   "cell_type": "markdown",
   "metadata": {},
   "source": [
    "Generate summary"
   ]
  },
  {
   "cell_type": "code",
   "execution_count": 12,
   "metadata": {},
   "outputs": [],
   "source": [
    "system_instruction = \"\"\"\n",
    "    Sos un economista experto en análisis de datos.\n",
    "    Tu tarea es procesar un documento y realizar un resumen de hasta 5 líneas.\n",
    "    El documento es un informe sobre la economía de Argentina.\n",
    "    El output tiene que ser un string.\n",
    "    \"\"\"\n",
    "\n",
    "generation_config = {\n",
    "    \"max_output_tokens\": 8192,\n",
    "    \"temperature\": 0.0,\n",
    "    \"top_p\": 0.95,\n",
    "}\n",
    "\n",
    "safety_settings = {\n",
    "    generative_models.HarmCategory.HARM_CATEGORY_HATE_SPEECH: generative_models.HarmBlockThreshold.BLOCK_ONLY_HIGH,\n",
    "    generative_models.HarmCategory.HARM_CATEGORY_DANGEROUS_CONTENT: generative_models.HarmBlockThreshold.BLOCK_ONLY_HIGH,\n",
    "    generative_models.HarmCategory.HARM_CATEGORY_SEXUALLY_EXPLICIT: generative_models.HarmBlockThreshold.BLOCK_ONLY_HIGH,\n",
    "    generative_models.HarmCategory.HARM_CATEGORY_HARASSMENT: generative_models.HarmBlockThreshold.BLOCK_ONLY_HIGH,\n",
    "}"
   ]
  },
  {
   "cell_type": "code",
   "execution_count": 13,
   "metadata": {},
   "outputs": [
    {
     "name": "stdout",
     "output_type": "stream",
     "text": [
      "Informe Política Monetaria\n",
      "Octubre de 2023\n",
      "1. Política monetaria: evaluación y perspectivas\n",
      "La economía global ha tendido a desacelerarse en los últimos meses. Con la inflación núcleo persistiendo en muchas economías avanzadas y cediendo en buena parte de las emergentes, los bancos centrales de las primeras mantuvieron, o incluso subieron, las tasas de interés de referencia; mientras que, los de las segundas comenzaron a reducirlas, especialmente en Latinoamérica. Ello impactó sobre los flujos de capitales hacia las economías emergentes, que perdieron dinamismo, con su consecuente impacto sobre las monedas. Asimismo, el dólar estadounidense se ha apreciado en el margen presionando a la baja a los precios de las materias primas agropecuarias, mientras que el petróleo se fortalece ante las restricciones de oferta.\n",
      "\n",
      "En Argentina la actividad económica se contrajo en el segundo trimestre del año, como consecuencia de la severa sequía que afectó principalmente la cosecha gruesa, tal como se había anticipado en el IPOM anterior. Por su parte, el nivel de actividad del conjunto de los sectores no agropecuarios se mantuvo estable respecto al primer trimestre y también en términos interanuales, con las actividades más vinculadas al agro contrayéndose y el resto creciendo. El empleo formal en los sectores no agropecuarios continuó aumentando. La demanda interna se mantuvo relativamente estable respecto al primer trimestre, con cierta heterogeneidad entre sus componentes. La contracción de las exportaciones netas, caída de existencias, ambas afectadas por la sequía, y la merma en el consumo privado fueron parcialmente contrarrestadas por el aumento de la inversión. Hacia delante se espera que el conjunto de políticas de refuerzo de ingresos implementadas por el Gobierno Nacional contribuya a sostener la demanda interna, en un contexto de elevada inflación e incertidumbre asociada al período electoral.\n",
      "\n",
      "La sequía también provocó una fuerte caída en flujos comerciales del exterior, con una pérdida estimada en torno a US$20.000 millones, y de la recaudación por derechos de exportación, que se redujo en 0,6% del PIB. Con el objetivo de contribuir a una mejora en el saldo comercial y favorecer la acumulación de reservas internacionales, así como también fortalecer los recursos fiscales, desde mediados de julio el Gobierno Nacional y el BCRA impulsaron un conjunto medidas impositivas y cambiarias. Entre ellas se destacaron la recalibración del tipo de cambio oficial a un valor de $/US$350, la ampliación del impuesto PAIS a la importación de otros bienes y servicios y una serie de modificaciones al Programa de Incremento Exportador (PIE).\n",
      "\n",
      "En este contexto y ante la necesidad de atender oportunamente los pagos de los servicios de la deuda con el Fondo Monetario Internacional (FMI), dada la demora en los desembolsos correspondientes a la quinta revisión del Programa de Facilidades Extendidas (PFE), el BCRA debió asistir financieramente de manera transitoria y extraordinaria al Tesoro Nacional. Además, para hacer frente a los compromisos de fines de julio y principios de agosto se recurrió a fuentes extraordinarias de fondeo (la colocación de una letra intransferible al BCRA, financiamiento de la CAF y un préstamo bilateral con el Estado de Catar). Estas operaciones permitieron cumplir en tiempo y forma con los servicios de la deuda con el organismo multilateral de crédito hasta la aprobación conjunta de la quinta y sexta revisión del PFE. En la misma se ajustó la meta de reservas internacionales, reflejando el impacto de la sequía y manteniendo un elevado esfuerzo de acumulación en el resto del año. Por otro lado, se incrementó de 0,6 a 0,8% del PIB el límite de financiamiento monetario al Tesoro; al tiempo que se mantuvo la meta de déficit fiscal primario del Sector Público No Financiero.\n",
      "\n",
      "Tras la aprobación de la revisión del PFE, el 23 de agosto el organismo realizó un desembolso de 5.500 millones de DEGs (unos US$7.300 millones) y se comenzaron a revertir los mecanismos de financiamiento puente mencionados anteriormente. Ese mismo día se cancelaron $0,5 billones de Adelantos transitorios netos. También se canceló el préstamo con el Estado de Catar y el Gobierno Nacional decidió adelantar el pago de septiembre al FMI por 687,5 millones de DEGs (unos US$ 910 millones).\n",
      "\n",
      "La inflación de los últimos meses reflejó el impacto de la mayor volatilidad financiera y de las diversas medidas orientadas a compensar las consecuencias de la sequía en los recursos fiscales y en las reservas internacionales, entre las que se destacó la recalibración del tipo de cambio oficial. El efecto en precios se habría concentrado fundamentalmente en agosto y septiembre, con una inflación promedio mensual en torno al 12%. Sin embargo, la inflación mostró una tendencia a la baja desde la primera semana de septiembre y se espera para octubre una marcada reducción en la tasa de inflación mensual. La desaceleración de la inflación de las últimas semanas respondió mayormente a una serie de medidas implementadas por el Gobierno Nacional y el BCRA.\n",
      "\n",
      "El Gobierno Nacional renovó los acuerdos de precios en el marco del programa Precios Justos —acotando el ritmo de suba de productos de la canasta básica y estabilizando los precios de los medicamentos—. Asimismo, dispuso el congelamiento transitorio de precios de ciertos productos regulados —como las naftas y las cuotas de medicina prepaga— y postergó el incremento en las tarifas de trenes, colectivos, gas y electricidad.\n",
      "\n",
      "El BCRA, por su parte, readecuó la tasa de interés de política monetaria con el objetivo de morigerar el traslado a precios de la recalibración del tipo de cambio oficial. Específicamente, dispuso elevar en 21 p.p. la tasa de interés de la LELIQ a 28 días de plazo, llevándola a 118% n.a. (209,4% e.a.). Asimismo, elevó la tasa de interés mínima garantizada para las colocaciones de personas humanas a un rendimiento efectivo mensual de 9,7%. De este modo, se buscó propender hacia retornos reales positivos sobre las inversiones en moneda local y contribuir al equilibrio financiero y cambiario.\n",
      "\n",
      "Por otro lado, el BCRA continuó utilizando su capacidad de intervención a través de operaciones de mercado abierto, a los efectos de acotar la volatilidad y auspiciar una mayor liquidez, profundidad y transparencia de los mercados de deuda soberana. Asimismo, mantuvo su política de crédito focalizada en el desarrollo productivo a través de Línea de Financiamiento a la Inversión Productiva (LFIP). Esta herramienta permitió que el financiamiento bancario a las empresas de menor tamaño relativo se ubique por encima del registro previo a la pandemia y del promedio histórico.\n",
      "\n",
      "En los próximos meses, el BCRA continuará calibrando sus políticas en un contexto de mayor volatilidad en los mercados financieros asociado al período electoral. En materia de tasas de interés, actuará dentro de su objetivo estructural de propender hacia retornos reales positivos sobre las inversiones en moneda local y favorecer la acumulación de reservas. Asimismo, el BCRA continuará interviniendo en los mercados secundarios de deuda pública con el fin de evitar una excesiva volatilidad que comprometa la estabilidad financiera y cambiaria, y mantendrá una administración prudente de los agregados monetarios, esterilizando eventuales excedentes de liquidez, de manera de preservar el equilibrio monetario. Por último, en pos de seguir apoyando la expansión de la actividad económica, el BCRA continuará estimulando el crédito, en particular aquel vinculado al desarrollo productivo a través de la Línea de Financiamiento para la Inversión Productiva.\n"
     ]
    }
   ],
   "source": [
    "print(content)"
   ]
  },
  {
   "cell_type": "code",
   "execution_count": 14,
   "metadata": {},
   "outputs": [
    {
     "name": "stdout",
     "output_type": "stream",
     "text": [
      "La economía argentina se contrajo en el segundo trimestre debido a una sequía que afectó las exportaciones agrícolas. El gobierno implementó medidas para fortalecer las reservas y la recaudación fiscal, incluyendo una devaluación del peso. La inflación aumentó debido a la volatilidad financiera y la devaluación, pero se espera que se modere. El Banco Central aumentó las tasas de interés para controlar la inflación y fomentar la inversión en moneda local. Se espera que el Banco Central continúe con una política monetaria contractiva para controlar la inflación y acumular reservas. \n"
     ]
    }
   ],
   "source": [
    "summary = generate(generation_config=generation_config, safety_settings=safety_settings,system_instruction=system_instruction, prompt=content)"
   ]
  },
  {
   "cell_type": "code",
   "execution_count": 15,
   "metadata": {},
   "outputs": [
    {
     "name": "stdout",
     "output_type": "stream",
     "text": [
      "['La economía argentina se contrajo en el segundo trimestre debido a una sequía que afectó las exportaciones agrícolas. El gobierno implementó medidas para fortalecer las reservas y la recaudación fiscal, incluyendo una devaluación del peso. La inflación aumentó debido a la volatilidad financiera y la devaluación, pero se espera que se modere. El Banco Central aumentó las tasas de interés para controlar la inflación y fomentar la inversión en moneda local. Se espera que el Banco Central continúe con una política monetaria contractiva para controlar la inflación y acumular reservas. \\n']\n"
     ]
    }
   ],
   "source": [
    "print(summary)"
   ]
  },
  {
   "cell_type": "code",
   "execution_count": 16,
   "metadata": {},
   "outputs": [],
   "source": [
    "system_instruction = \"\"\"\n",
    "    Sos un economista experto en análisis de datos.\n",
    "    Tu tarea es procesar un documento y realizar un resumen de hasta 5 líneas así cómo definir aspectos positivos (highs) y negativos (lows).\n",
    "    El documento es un informe sobre la economía de Argentina.\n",
    "    El output tiene que ser un json con la siguiente estrucutra:\n",
    "    {\"summary\": \"string\",\n",
    "    \"highs\": [\"string\"],\n",
    "    \"lows\": [\"string\"]\n",
    "    }.\n",
    "    \"\"\"\n",
    "\n",
    "generation_config = {\n",
    "    \"max_output_tokens\": 8192,\n",
    "    \"temperature\": 0.0,\n",
    "    \"top_p\": 0.95,\n",
    "}\n",
    "\n",
    "safety_settings = {\n",
    "    generative_models.HarmCategory.HARM_CATEGORY_HATE_SPEECH: generative_models.HarmBlockThreshold.BLOCK_ONLY_HIGH,\n",
    "    generative_models.HarmCategory.HARM_CATEGORY_DANGEROUS_CONTENT: generative_models.HarmBlockThreshold.BLOCK_ONLY_HIGH,\n",
    "    generative_models.HarmCategory.HARM_CATEGORY_SEXUALLY_EXPLICIT: generative_models.HarmBlockThreshold.BLOCK_ONLY_HIGH,\n",
    "    generative_models.HarmCategory.HARM_CATEGORY_HARASSMENT: generative_models.HarmBlockThreshold.BLOCK_ONLY_HIGH,\n",
    "}"
   ]
  },
  {
   "cell_type": "code",
   "execution_count": 17,
   "metadata": {},
   "outputs": [
    {
     "name": "stdout",
     "output_type": "stream",
     "text": [
      "Informe Política Monetaria\n",
      "Octubre de 2023\n",
      "1. Política monetaria: evaluación y perspectivas\n",
      "La economía global ha tendido a desacelerarse en los últimos meses. Con la inflación núcleo persistiendo en muchas economías avanzadas y cediendo en buena parte de las emergentes, los bancos centrales de las primeras mantuvieron, o incluso subieron, las tasas de interés de referencia; mientras que, los de las segundas comenzaron a reducirlas, especialmente en Latinoamérica. Ello impactó sobre los flujos de capitales hacia las economías emergentes, que perdieron dinamismo, con su consecuente impacto sobre las monedas. Asimismo, el dólar estadounidense se ha apreciado en el margen presionando a la baja a los precios de las materias primas agropecuarias, mientras que el petróleo se fortalece ante las restricciones de oferta.\n",
      "\n",
      "En Argentina la actividad económica se contrajo en el segundo trimestre del año, como consecuencia de la severa sequía que afectó principalmente la cosecha gruesa, tal como se había anticipado en el IPOM anterior. Por su parte, el nivel de actividad del conjunto de los sectores no agropecuarios se mantuvo estable respecto al primer trimestre y también en términos interanuales, con las actividades más vinculadas al agro contrayéndose y el resto creciendo. El empleo formal en los sectores no agropecuarios continuó aumentando. La demanda interna se mantuvo relativamente estable respecto al primer trimestre, con cierta heterogeneidad entre sus componentes. La contracción de las exportaciones netas, caída de existencias, ambas afectadas por la sequía, y la merma en el consumo privado fueron parcialmente contrarrestadas por el aumento de la inversión. Hacia delante se espera que el conjunto de políticas de refuerzo de ingresos implementadas por el Gobierno Nacional contribuya a sostener la demanda interna, en un contexto de elevada inflación e incertidumbre asociada al período electoral.\n",
      "\n",
      "La sequía también provocó una fuerte caída en flujos comerciales del exterior, con una pérdida estimada en torno a US$20.000 millones, y de la recaudación por derechos de exportación, que se redujo en 0,6% del PIB. Con el objetivo de contribuir a una mejora en el saldo comercial y favorecer la acumulación de reservas internacionales, así como también fortalecer los recursos fiscales, desde mediados de julio el Gobierno Nacional y el BCRA impulsaron un conjunto medidas impositivas y cambiarias. Entre ellas se destacaron la recalibración del tipo de cambio oficial a un valor de $/US$350, la ampliación del impuesto PAIS a la importación de otros bienes y servicios y una serie de modificaciones al Programa de Incremento Exportador (PIE).\n",
      "\n",
      "En este contexto y ante la necesidad de atender oportunamente los pagos de los servicios de la deuda con el Fondo Monetario Internacional (FMI), dada la demora en los desembolsos correspondientes a la quinta revisión del Programa de Facilidades Extendidas (PFE), el BCRA debió asistir financieramente de manera transitoria y extraordinaria al Tesoro Nacional. Además, para hacer frente a los compromisos de fines de julio y principios de agosto se recurrió a fuentes extraordinarias de fondeo (la colocación de una letra intransferible al BCRA, financiamiento de la CAF y un préstamo bilateral con el Estado de Catar). Estas operaciones permitieron cumplir en tiempo y forma con los servicios de la deuda con el organismo multilateral de crédito hasta la aprobación conjunta de la quinta y sexta revisión del PFE. En la misma se ajustó la meta de reservas internacionales, reflejando el impacto de la sequía y manteniendo un elevado esfuerzo de acumulación en el resto del año. Por otro lado, se incrementó de 0,6 a 0,8% del PIB el límite de financiamiento monetario al Tesoro; al tiempo que se mantuvo la meta de déficit fiscal primario del Sector Público No Financiero.\n",
      "\n",
      "Tras la aprobación de la revisión del PFE, el 23 de agosto el organismo realizó un desembolso de 5.500 millones de DEGs (unos US$7.300 millones) y se comenzaron a revertir los mecanismos de financiamiento puente mencionados anteriormente. Ese mismo día se cancelaron $0,5 billones de Adelantos transitorios netos. También se canceló el préstamo con el Estado de Catar y el Gobierno Nacional decidió adelantar el pago de septiembre al FMI por 687,5 millones de DEGs (unos US$ 910 millones).\n",
      "\n",
      "La inflación de los últimos meses reflejó el impacto de la mayor volatilidad financiera y de las diversas medidas orientadas a compensar las consecuencias de la sequía en los recursos fiscales y en las reservas internacionales, entre las que se destacó la recalibración del tipo de cambio oficial. El efecto en precios se habría concentrado fundamentalmente en agosto y septiembre, con una inflación promedio mensual en torno al 12%. Sin embargo, la inflación mostró una tendencia a la baja desde la primera semana de septiembre y se espera para octubre una marcada reducción en la tasa de inflación mensual. La desaceleración de la inflación de las últimas semanas respondió mayormente a una serie de medidas implementadas por el Gobierno Nacional y el BCRA.\n",
      "\n",
      "El Gobierno Nacional renovó los acuerdos de precios en el marco del programa Precios Justos —acotando el ritmo de suba de productos de la canasta básica y estabilizando los precios de los medicamentos—. Asimismo, dispuso el congelamiento transitorio de precios de ciertos productos regulados —como las naftas y las cuotas de medicina prepaga— y postergó el incremento en las tarifas de trenes, colectivos, gas y electricidad.\n",
      "\n",
      "El BCRA, por su parte, readecuó la tasa de interés de política monetaria con el objetivo de morigerar el traslado a precios de la recalibración del tipo de cambio oficial. Específicamente, dispuso elevar en 21 p.p. la tasa de interés de la LELIQ a 28 días de plazo, llevándola a 118% n.a. (209,4% e.a.). Asimismo, elevó la tasa de interés mínima garantizada para las colocaciones de personas humanas a un rendimiento efectivo mensual de 9,7%. De este modo, se buscó propender hacia retornos reales positivos sobre las inversiones en moneda local y contribuir al equilibrio financiero y cambiario.\n",
      "\n",
      "Por otro lado, el BCRA continuó utilizando su capacidad de intervención a través de operaciones de mercado abierto, a los efectos de acotar la volatilidad y auspiciar una mayor liquidez, profundidad y transparencia de los mercados de deuda soberana. Asimismo, mantuvo su política de crédito focalizada en el desarrollo productivo a través de Línea de Financiamiento a la Inversión Productiva (LFIP). Esta herramienta permitió que el financiamiento bancario a las empresas de menor tamaño relativo se ubique por encima del registro previo a la pandemia y del promedio histórico.\n",
      "\n",
      "En los próximos meses, el BCRA continuará calibrando sus políticas en un contexto de mayor volatilidad en los mercados financieros asociado al período electoral. En materia de tasas de interés, actuará dentro de su objetivo estructural de propender hacia retornos reales positivos sobre las inversiones en moneda local y favorecer la acumulación de reservas. Asimismo, el BCRA continuará interviniendo en los mercados secundarios de deuda pública con el fin de evitar una excesiva volatilidad que comprometa la estabilidad financiera y cambiaria, y mantendrá una administración prudente de los agregados monetarios, esterilizando eventuales excedentes de liquidez, de manera de preservar el equilibrio monetario. Por último, en pos de seguir apoyando la expansión de la actividad económica, el BCRA continuará estimulando el crédito, en particular aquel vinculado al desarrollo productivo a través de la Línea de Financiamiento para la Inversión Productiva.\n"
     ]
    }
   ],
   "source": [
    "print(content)"
   ]
  },
  {
   "cell_type": "code",
   "execution_count": 18,
   "metadata": {},
   "outputs": [
    {
     "name": "stdout",
     "output_type": "stream",
     "text": [
      "```json\n",
      "{\"summary\": \"La economía argentina se contrajo en el segundo trimestre de 2023 debido a una severa sequía que afectó las exportaciones agrícolas. El gobierno implementó medidas para fortalecer las reservas y cumplir con los pagos de la deuda con el FMI. La inflación aumentó debido a la devaluación del peso, pero se espera que se modere en los próximos meses. El Banco Central aumentó las tasas de interés para controlar la inflación y continuará monitoreando la situación económica durante el período electoral.\",\n",
      "\"highs\": [\n",
      "\"El empleo formal en los sectores no agropecuarios continuó aumentando.\",\n",
      "\"Se espera que el conjunto de políticas de refuerzo de ingresos implementadas por el Gobierno Nacional contribuya a sostener la demanda interna.\",\n",
      "\"La aprobación de la revisión del PFE por parte del FMI resultó en un desembolso de US$7.300 millones.\",\n",
      "\"Se espera una marcada reducción en la tasa de inflación mensual para octubre.\",\n",
      "\"El financiamiento bancario a las empresas de menor tamaño relativo se ubica por encima del registro previo a la pandemia y del promedio histórico.\"\n",
      "],\n",
      "\"lows\": [\n",
      "\"La economía argentina se contrajo en el segundo trimestre del año.\",\n",
      "\"La sequía provocó una fuerte caída en flujos comerciales del exterior, con una pérdida estimada en torno a US$20.000 millones.\",\n",
      "\"El BCRA debió asistir financieramente de manera transitoria y extraordinaria al Tesoro Nacional para atender los pagos de la deuda con el FMI.\",\n",
      "\"La inflación promedio mensual en agosto y septiembre fue del 12%.\",\n",
      "\"Existe un contexto de mayor volatilidad en los mercados financieros asociado al período electoral.\"\n",
      "]}\n",
      "```"
     ]
    }
   ],
   "source": [
    "summary = generate(generation_config=generation_config, safety_settings=safety_settings,system_instruction=system_instruction, prompt=content)"
   ]
  },
  {
   "cell_type": "code",
   "execution_count": 19,
   "metadata": {},
   "outputs": [
    {
     "name": "stdout",
     "output_type": "stream",
     "text": [
      "['```json\\n{\"summary\": \"La economía argentina se contrajo en el segundo trimestre de 2023 debido a una severa sequía que afectó las exportaciones agrícolas. El gobierno implementó medidas para fortalecer las reservas y cumplir con los pagos de la deuda con el FMI. La inflación aumentó debido a la devaluación del peso, pero se espera que se modere en los próximos meses. El Banco Central aumentó las tasas de interés para controlar la inflación y continuará monitoreando la situación económica durante el período electoral.\",\\n\"highs\": [\\n\"El empleo formal en los sectores no agropecuarios continuó aumentando.\",\\n\"Se espera que el conjunto de políticas de refuerzo de ingresos implementadas por el Gobierno Nacional contribuya a sostener la demanda interna.\",\\n\"La aprobación de la revisión del PFE por parte del FMI resultó en un desembolso de US$7.300 millones.\",\\n\"Se espera una marcada reducción en la tasa de inflación mensual para octubre.\",\\n\"El financiamiento bancario a las empresas de menor tamaño relativo se ubica por encima del registro previo a la pandemia y del promedio histórico.\"\\n],\\n\"lows\": [\\n\"La economía argentina se contrajo en el segundo trimestre del año.\",\\n\"La sequía provocó una fuerte caída en flujos comerciales del exterior, con una pérdida estimada en torno a US$20.000 millones.\",\\n\"El BCRA debió asistir financieramente de manera transitoria y extraordinaria al Tesoro Nacional para atender los pagos de la deuda con el FMI.\",\\n\"La inflación promedio mensual en agosto y septiembre fue del 12%.\",\\n\"Existe un contexto de mayor volatilidad en los mercados financieros asociado al período electoral.\"\\n]}\\n```']\n"
     ]
    }
   ],
   "source": [
    "print(summary)"
   ]
  }
 ],
 "metadata": {
  "kernelspec": {
   "display_name": ".venv",
   "language": "python",
   "name": "python3"
  },
  "language_info": {
   "codemirror_mode": {
    "name": "ipython",
    "version": 3
   },
   "file_extension": ".py",
   "mimetype": "text/x-python",
   "name": "python",
   "nbconvert_exporter": "python",
   "pygments_lexer": "ipython3",
   "version": "3.10.6"
  }
 },
 "nbformat": 4,
 "nbformat_minor": 2
}
