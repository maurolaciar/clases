{
 "cells": [
  {
   "cell_type": "markdown",
   "metadata": {},
   "source": [
    "# Inferential Statistics Notebook\n",
    "\n",
    "## Introduction\n",
    "\n",
    "Inferential statistics allow us to make predictions or inferences about a population based on a sample of data taken from that population. It contrasts with descriptive statistics, which simply describe the characteristics of a given dataset. Inferential statistics are crucial in hypothesis testing, estimating population parameters, and making predictions.\n",
    "\n",
    "## Main Concepts\n",
    "\n",
    "### 1. Population vs. Sample\n",
    "\n",
    "- **Population**: The entire group that you want to draw conclusions about.\n",
    "- **Sample**: A subset of the population that is used to represent the entire group.\n",
    "\n",
    "### Example"
   ]
  },
  {
   "cell_type": "code",
   "execution_count": 17,
   "metadata": {},
   "outputs": [],
   "source": [
    "import numpy as np\n",
    "\n",
    "# Simulating a population\n",
    "# We create a population of 10000 people with a mean age of 35 and a standard deviation of 10\n",
    "population_ages = np.random.normal(loc=35, scale=10, size=10000) # mean=35, std=10\n"
   ]
  },
  {
   "cell_type": "markdown",
   "metadata": {},
   "source": [
    "\n",
    "\n",
    "### 2. Sampling Distribution\n",
    "\n",
    "The distribution of a statistic (like the mean) calculated from samples of a given size drawn from the same population.\n",
    "\n",
    "### Example\n",
    "\n"
   ]
  },
  {
   "cell_type": "code",
   "execution_count": 18,
   "metadata": {},
   "outputs": [],
   "source": [
    "# Taking a sample\n",
    "sample_ages = np.random.choice(population_ages, size=100, replace=False)"
   ]
  },
  {
   "cell_type": "code",
   "execution_count": 21,
   "metadata": {},
   "outputs": [
    {
     "name": "stdout",
     "output_type": "stream",
     "text": [
      "Mean of the sample: 34.97863857607054\n",
      "Standar dev of the sample: 9.84849049532124\n",
      "Standar dev of the mean: 0.984849049532124\n",
      "Standar error of the mean: 0.984849049532124\n"
     ]
    }
   ],
   "source": [
    "# Save the sample mean\n",
    "sample_mean = np.mean(sample_ages)\n",
    "print(f\"Mean of the sample: {sample_mean}\")\n",
    "# Save the standard deviation of the sample\n",
    "sample_std = np.std(sample_ages)\n",
    "print(f\"Standar dev of the sample: {sample_std}\")\n",
    "# Save the standard deviation of the mean\n",
    "sample_std_mean = np.std(sample_ages) / np.sqrt(100)\n",
    "print(f\"Standar dev of the mean: {sample_std_mean}\")\n",
    "# Save the standard error of the mean\n",
    "sem = sample_std / np.sqrt(100)\n",
    "print(f\"Standar error of the mean: {sem}\")\n",
    "\n"
   ]
  },
  {
   "cell_type": "code",
   "execution_count": 16,
   "metadata": {},
   "outputs": [
    {
     "data": {
      "image/png": "[encoded data removed]",
      "text/plain": [
       "<Figure size 640x480 with 1 Axes>"
      ]
     },
     "metadata": {},
     "output_type": "display_data"
    }
   ],
   "source": [
    "\n",
    "sample_means = [np.random.choice(population_ages, 100).mean() for _ in range(1000)]\n",
    "# Plotting the sampling distribution of the mean\n",
    "import matplotlib.pyplot as plt\n",
    "\n",
    "plt.hist(sample_means, bins=30, edgecolor='k')\n",
    "plt.xlabel('Sample Mean Age')\n",
    "plt.ylabel('Frequency')\n",
    "plt.title('Sampling Distribution of the Mean')\n",
    "plt.show()"
   ]
  },
  {
   "cell_type": "markdown",
   "metadata": {},
   "source": [
    "\n",
    "\n",
    "### 3. Hypothesis Testing\n",
    "\n",
    "A method of making decisions using data, whether from a controlled experiment or an observational study.\n",
    "\n",
    "- **Null Hypothesis (H0)**: The default position that there is no relationship between two measured phenomena.\n",
    "- **Alternative Hypothesis (H1)**: The hypothesis that there is a relationship.\n",
    "\n",
    "### Example\n",
    "\n"
   ]
  },
  {
   "cell_type": "code",
   "execution_count": 29,
   "metadata": {},
   "outputs": [
    {
     "name": "stdout",
     "output_type": "stream",
     "text": [
      "34.97863857607054\n",
      "9.84849049532124\n",
      "Manual T-test: -0.021690048784238643\n"
     ]
    }
   ],
   "source": [
    "# Calculate manually the t-statistic\n",
    "print(sample_mean)\n",
    "print(sample_std)\n",
    "print((sample_std / np.sqrt(100)))\n",
    "t_statistic_manual = (sample_mean - 35) / (sample_std / np.sqrt(100))\n",
    "print(f\"Manual T-test: {t_statistic_manual}\")"
   ]
  },
  {
   "cell_type": "code",
   "execution_count": 27,
   "metadata": {},
   "outputs": [
    {
     "name": "stdout",
     "output_type": "stream",
     "text": [
      "T-test: -0.021581326050547165, P-value: 0.9828253675652292\n"
     ]
    }
   ],
   "source": [
    "from scipy import stats\n",
    "\n",
    "# Hypothesis: The mean age of our sample is different from the population mean of 35\n",
    "sample_mean = np.mean(sample_ages)\n",
    "t_statistic, p_value = stats.ttest_1samp(sample_ages, 35)\n",
    "\n",
    "print(f\"T-test: {t_statistic}, P-value: {p_value}\")\n"
   ]
  },
  {
   "cell_type": "markdown",
   "metadata": {},
   "source": [
    "\n",
    "\n",
    "### 4. Confidence Intervals\n",
    "\n",
    "A range of values, derived from the sample statistics, that is likely to contain the value of an unknown population parameter.\n",
    "\n",
    "### Example\n",
    "\n"
   ]
  },
  {
   "cell_type": "code",
   "execution_count": 37,
   "metadata": {},
   "outputs": [
    {
     "name": "stdout",
     "output_type": "stream",
     "text": [
      "95% Confidence Interval: (32.990545602521216, 36.96673154961986)\n"
     ]
    }
   ],
   "source": [
    "confidence_level = 0.95\n",
    "degrees_freedom = len(sample_ages) - 50\n",
    "sample_mean = np.mean(sample_ages)\n",
    "sample_standard_error = stats.sem(sample_ages)\n",
    "confidence_interval = stats.t.interval(confidence_level, degrees_freedom, sample_mean, sample_standard_error)\n",
    "\n",
    "print(f\"95% Confidence Interval: {confidence_interval}\")"
   ]
  },
  {
   "cell_type": "markdown",
   "metadata": {},
   "source": [
    "\n",
    "\n",
    "## Conclusion\n",
    "\n",
    "Inferential statistics are essential for making predictions about a population based on samples. By understanding and applying these concepts, we can make informed decisions in various fields such as science, business, and economics.\n"
   ]
  }
 ],
 "metadata": {
  "kernelspec": {
   "display_name": "Python 3",
   "language": "python",
   "name": "python3"
  },
  "language_info": {
   "codemirror_mode": {
    "name": "ipython",
    "version": 3
   },
   "file_extension": ".py",
   "mimetype": "text/x-python",
   "name": "python",
   "nbconvert_exporter": "python",
   "pygments_lexer": "ipython3",
   "version": "3.10.6"
  }
 },
 "nbformat": 4,
 "nbformat_minor": 2
}
