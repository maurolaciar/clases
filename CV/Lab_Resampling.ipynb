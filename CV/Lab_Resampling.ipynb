{
 "cells": [
  {
   "cell_type": "markdown",
   "metadata": {},
   "source": [
    "# ISLR- Python: Ch5 -- Lab: Resampling Methods"
   ]
  },
  {
   "cell_type": "markdown",
   "metadata": {},
   "source": [
    "- [Load Datasets](#Load-Datasets)\n",
    "- [5.3.1 The Validation Set Approach](#5.3.1-The-Validation-Set-Approach)\n",
    "- [5.3.2 Leave-One-Out Cross Validation](#5.3.2-Leave-One-Out-Cross-Validation)\n",
    "- [5.3.3 k-Fold Cross Validation](#5.3.3-k-Fold-Cross-Validation)\n",
    "- [5.3.4 The Bootstrap](#5.3.4-The-Bootstrap)"
   ]
  },
  {
   "cell_type": "code",
   "execution_count": 1,
   "metadata": {
    "collapsed": false
   },
   "outputs": [],
   "source": [
    "# perform standard imports\n",
    "import numpy as np\n",
    "import pandas as pd\n",
    "import statsmodels.api as sm\n",
    "import scipy\n",
    "import scikits.bootstrap as bootstrap\n",
    "\n",
    "from sklearn.preprocessing import PolynomialFeatures\n",
    "from sklearn.linear_model import LinearRegression\n",
    "from sklearn.model_selection import cross_val_score\n",
    "from matplotlib import pyplot as plt\n",
    "\n",
    "%matplotlib inline\n",
    "plt.style.use('ggplot') # emulate R's pretty plotting\n",
    "\n",
    "# print numpy arrays with precision 4\n",
    "np.set_printoptions(precision=4)"
   ]
  },
  {
   "cell_type": "markdown",
   "metadata": {},
   "source": [
    "# Load Datasets"
   ]
  },
  {
   "cell_type": "code",
   "execution_count": 2,
   "metadata": {
    "collapsed": false
   },
   "outputs": [
    {
     "name": "stdout",
     "output_type": "stream",
     "text": [
      "392 Rows\n"
     ]
    },
    {
     "data": {
      "text/html": [
       "<div>\n",
       "<style scoped>\n",
       "    .dataframe tbody tr th:only-of-type {\n",
       "        vertical-align: middle;\n",
       "    }\n",
       "\n",
       "    .dataframe tbody tr th {\n",
       "        vertical-align: top;\n",
       "    }\n",
       "\n",
       "    .dataframe thead th {\n",
       "        text-align: right;\n",
       "    }\n",
       "</style>\n",
       "<table border=\"1\" class=\"dataframe\">\n",
       "  <thead>\n",
       "    <tr style=\"text-align: right;\">\n",
       "      <th></th>\n",
       "      <th>mpg</th>\n",
       "      <th>cylinders</th>\n",
       "      <th>displacement</th>\n",
       "      <th>horsepower</th>\n",
       "      <th>weight</th>\n",
       "      <th>acceleration</th>\n",
       "      <th>model year</th>\n",
       "      <th>origin</th>\n",
       "      <th>car name</th>\n",
       "    </tr>\n",
       "  </thead>\n",
       "  <tbody>\n",
       "    <tr>\n",
       "      <th>0</th>\n",
       "      <td>18.0</td>\n",
       "      <td>8</td>\n",
       "      <td>307.0</td>\n",
       "      <td>130.0</td>\n",
       "      <td>3504</td>\n",
       "      <td>12.0</td>\n",
       "      <td>70</td>\n",
       "      <td>1</td>\n",
       "      <td>chevrolet chevelle malibu</td>\n",
       "    </tr>\n",
       "    <tr>\n",
       "      <th>1</th>\n",
       "      <td>15.0</td>\n",
       "      <td>8</td>\n",
       "      <td>350.0</td>\n",
       "      <td>165.0</td>\n",
       "      <td>3693</td>\n",
       "      <td>11.5</td>\n",
       "      <td>70</td>\n",
       "      <td>1</td>\n",
       "      <td>buick skylark 320</td>\n",
       "    </tr>\n",
       "    <tr>\n",
       "      <th>2</th>\n",
       "      <td>18.0</td>\n",
       "      <td>8</td>\n",
       "      <td>318.0</td>\n",
       "      <td>150.0</td>\n",
       "      <td>3436</td>\n",
       "      <td>11.0</td>\n",
       "      <td>70</td>\n",
       "      <td>1</td>\n",
       "      <td>plymouth satellite</td>\n",
       "    </tr>\n",
       "    <tr>\n",
       "      <th>3</th>\n",
       "      <td>16.0</td>\n",
       "      <td>8</td>\n",
       "      <td>304.0</td>\n",
       "      <td>150.0</td>\n",
       "      <td>3433</td>\n",
       "      <td>12.0</td>\n",
       "      <td>70</td>\n",
       "      <td>1</td>\n",
       "      <td>amc rebel sst</td>\n",
       "    </tr>\n",
       "    <tr>\n",
       "      <th>4</th>\n",
       "      <td>17.0</td>\n",
       "      <td>8</td>\n",
       "      <td>302.0</td>\n",
       "      <td>140.0</td>\n",
       "      <td>3449</td>\n",
       "      <td>10.5</td>\n",
       "      <td>70</td>\n",
       "      <td>1</td>\n",
       "      <td>ford torino</td>\n",
       "    </tr>\n",
       "  </tbody>\n",
       "</table>\n",
       "</div>"
      ],
      "text/plain": [
       "    mpg  cylinders  displacement  horsepower  weight  acceleration  \\\n",
       "0  18.0          8         307.0       130.0    3504          12.0   \n",
       "1  15.0          8         350.0       165.0    3693          11.5   \n",
       "2  18.0          8         318.0       150.0    3436          11.0   \n",
       "3  16.0          8         304.0       150.0    3433          12.0   \n",
       "4  17.0          8         302.0       140.0    3449          10.5   \n",
       "\n",
       "   model year  origin                   car name  \n",
       "0          70       1  chevrolet chevelle malibu  \n",
       "1          70       1          buick skylark 320  \n",
       "2          70       1         plymouth satellite  \n",
       "3          70       1              amc rebel sst  \n",
       "4          70       1                ford torino  "
      ]
     },
     "execution_count": 2,
     "metadata": {},
     "output_type": "execute_result"
    }
   ],
   "source": [
    "# load auto dataset, note before we have found that horsepower column contains ? values we convert to nans\n",
    "auto = pd.read_csv('./data/Auto.csv',na_values='?')\n",
    "auto = auto.dropna()\n",
    "print(len(auto), 'Rows')\n",
    "auto.head()"
   ]
  },
  {
   "cell_type": "code",
   "execution_count": 3,
   "metadata": {
    "collapsed": false
   },
   "outputs": [
    {
     "name": "stdout",
     "output_type": "stream",
     "text": [
      "\n",
      " 100 Rows\n"
     ]
    },
    {
     "data": {
      "text/html": [
       "<div>\n",
       "<style scoped>\n",
       "    .dataframe tbody tr th:only-of-type {\n",
       "        vertical-align: middle;\n",
       "    }\n",
       "\n",
       "    .dataframe tbody tr th {\n",
       "        vertical-align: top;\n",
       "    }\n",
       "\n",
       "    .dataframe thead th {\n",
       "        text-align: right;\n",
       "    }\n",
       "</style>\n",
       "<table border=\"1\" class=\"dataframe\">\n",
       "  <thead>\n",
       "    <tr style=\"text-align: right;\">\n",
       "      <th></th>\n",
       "      <th>X</th>\n",
       "      <th>Y</th>\n",
       "    </tr>\n",
       "  </thead>\n",
       "  <tbody>\n",
       "    <tr>\n",
       "      <th>1</th>\n",
       "      <td>-0.895251</td>\n",
       "      <td>-0.234924</td>\n",
       "    </tr>\n",
       "    <tr>\n",
       "      <th>2</th>\n",
       "      <td>-1.562454</td>\n",
       "      <td>-0.885176</td>\n",
       "    </tr>\n",
       "    <tr>\n",
       "      <th>3</th>\n",
       "      <td>-0.417090</td>\n",
       "      <td>0.271888</td>\n",
       "    </tr>\n",
       "    <tr>\n",
       "      <th>4</th>\n",
       "      <td>1.044356</td>\n",
       "      <td>-0.734198</td>\n",
       "    </tr>\n",
       "    <tr>\n",
       "      <th>5</th>\n",
       "      <td>-0.315568</td>\n",
       "      <td>0.841983</td>\n",
       "    </tr>\n",
       "  </tbody>\n",
       "</table>\n",
       "</div>"
      ],
      "text/plain": [
       "          X         Y\n",
       "1 -0.895251 -0.234924\n",
       "2 -1.562454 -0.885176\n",
       "3 -0.417090  0.271888\n",
       "4  1.044356 -0.734198\n",
       "5 -0.315568  0.841983"
      ]
     },
     "execution_count": 3,
     "metadata": {},
     "output_type": "execute_result"
    }
   ],
   "source": [
    "# load the portfolio data set\n",
    "portfolio = pd.read_csv('./data/Portfolio.csv', index_col=0)\n",
    "print('\\n',len(portfolio),'Rows')\n",
    "portfolio.head()"
   ]
  },
  {
   "cell_type": "markdown",
   "metadata": {},
   "source": [
    "## 5.3.1 The Validation Set Approach"
   ]
  },
  {
   "cell_type": "code",
   "execution_count": 4,
   "metadata": {
    "collapsed": false
   },
   "outputs": [
    {
     "name": "stdout",
     "output_type": "stream",
     "text": [
      "Linear Model MSE =  20.85743480022974\n",
      "\n",
      "Quadratic Model MSE =  16.45692837242371\n",
      "\n",
      "Cubic Model MSE =  16.442701423690945\n"
     ]
    }
   ],
   "source": [
    "# We want to predict the mpg from the horsepower. In chapter 3 we saw that the linear fit wan inadequate and so \n",
    "# we began fitting higher order polynomials. Here we will use validation approaches to examine the test MSE for \n",
    "# higher order models.\n",
    "\n",
    "# Set the random seed so we always get the same results\n",
    "np.random.seed(0)\n",
    "\n",
    "# Split the Data #\n",
    "##################\n",
    "# make a boolean mask to select data from dataframe. \n",
    "training = np.random.choice([False, True], size=392)\n",
    "# training set\n",
    "y_train = auto.mpg[training]\n",
    "x_train = sm.add_constant(auto.horsepower[training])\n",
    "# validation set\n",
    "y_test = auto.mpg[~training]\n",
    "x_test = sm.add_constant(auto.horsepower[~training])\n",
    "\n",
    "# Fit a Linear Model and Evaluate MSE #\n",
    "#######################################\n",
    "linear_model = sm.OLS(y_train, x_train)\n",
    "linear_results = linear_model.fit()\n",
    "\n",
    "# Use model on the validation set\n",
    "y_predictions = linear_results.predict(x_test)\n",
    "\n",
    "# Compute Linear Model MSE\n",
    "print('Linear Model MSE = ', np.mean((y_test.values-y_predictions)**2))\n",
    "\n",
    "# Fit a Quadratic Model and Evaluate MSE #\n",
    "##########################################\n",
    "# add the quadratic term to the design matrix\n",
    "x_train = sm.add_constant(np.column_stack((auto.horsepower[training], auto.horsepower[training]**2)))\n",
    "x_test = sm.add_constant(np.column_stack((auto.horsepower[~training], auto.horsepower[~training]**2)))\n",
    "\n",
    "# make the model and fit\n",
    "quad_model = sm.OLS(y_train, x_train)\n",
    "quad_model_results = quad_model.fit()\n",
    "\n",
    "# use the model on the validation set\n",
    "\n",
    "y_predictions = quad_model_results.predict(x_test)\n",
    "\n",
    "print('\\nQuadratic Model MSE = ', np.mean((y_test.values-y_predictions)**2))\n",
    "\n",
    "# Fit a Cubic Model and Evaluate MSE #\n",
    "######################################\n",
    "# add the cubic term to the design matrix\n",
    "x_train = sm.add_constant(np.column_stack((auto.horsepower[training], auto.horsepower[training]**2, \n",
    "                                           auto.horsepower[training]**3 )))\n",
    "x_test = sm.add_constant(np.column_stack((auto.horsepower[~training], auto.horsepower[~training]**2,\n",
    "                                          auto.horsepower[~training]**3)))\n",
    "\n",
    "# make the model and fit\n",
    "cube_model = sm.OLS(y_train, x_train)\n",
    "cube_model_results = cube_model.fit()\n",
    "\n",
    "# use the model on the validation set\n",
    "\n",
    "y_predictions = cube_model_results.predict(x_test)\n",
    "\n",
    "print('\\nCubic Model MSE = ', np.mean((y_test.values-y_predictions)**2))"
   ]
  },
  {
   "cell_type": "markdown",
   "metadata": {},
   "source": [
    "## 5.3.2 Leave-One-Out Cross Validation"
   ]
  },
  {
   "cell_type": "markdown",
   "metadata": {},
   "source": [
    "In the above validation approach, it was easy to use the statsmodels api to construct models and then calculate the MSE using the validation set approach. However, statsmodels does not have direct support for cross-validations i.e. LOOCV or K-fold. Instead they port the sklearn cross_val class. We will use that class directly here. "
   ]
  },
  {
   "cell_type": "code",
   "execution_count": 5,
   "metadata": {
    "collapsed": false
   },
   "outputs": [
    {
     "name": "stdout",
     "output_type": "stream",
     "text": [
      "Coefficients: Intercept, Beta(s) 39.93586102117047 [-0.1578]\n",
      "Coefficients: Intercept, Beta(s) 56.90009970211294 [-0.4662  0.0012]\n",
      "Coefficients: Intercept, Beta(s) 60.68478490666064 [-5.6885e-01  2.0790e-03 -2.1466e-06]\n",
      "Coefficients: Intercept, Beta(s) 47.56767723217467 [-7.6672e-02 -4.3446e-03  3.2451e-05 -6.5304e-08]\n",
      "Coefficients: Intercept, Beta(s) -32.23055991977358 [ 3.7001e+00 -7.1424e-02  5.9311e-04 -2.2811e-06  3.3296e-09]\n",
      "\n",
      "The estimated test MSEs =  [24.2315 19.2482 19.335  19.4244 19.0332]\n"
     ]
    },
    {
     "data": {
      "text/plain": [
       "Text(0, 0.5, 'LOOCV Error Rate')"
      ]
     },
     "execution_count": 5,
     "metadata": {},
     "output_type": "execute_result"
    },
    {
     "data": {
      "image/png": "[encoded data removed]",
      "text/plain": [
       "<Figure size 600x400 with 1 Axes>"
      ]
     },
     "metadata": {},
     "output_type": "display_data"
    }
   ],
   "source": [
    "# Create design matrix and Responses #\n",
    "######################################\n",
    "X = auto.horsepower.values\n",
    "X = X[:, np.newaxis]\n",
    "y = auto.mpg.values\n",
    "\n",
    "# Perform LOOCV for 5 Polynomial Models #\n",
    "#########################################\n",
    "# We will create models of order 1 through 5, fit and perform LOOCV\n",
    "\n",
    "# create arrays for polynomial order and error estimates\n",
    "orders = np.arange(1, 6)\n",
    "mse_est = np.array([])\n",
    "\n",
    "for index, order in enumerate(orders):\n",
    "    # create a polynomial of degree order, don't add bias, LinearRegression does so below\n",
    "    poly = PolynomialFeatures(degree=order, interaction_only=False, include_bias=False)\n",
    "        \n",
    "    # create a linear model and Fit\n",
    "    regress = LinearRegression()\n",
    "    regress.fit(poly.fit_transform(X), y)\n",
    "        \n",
    "    # print the coefficients\n",
    "    print('Coefficients: Intercept, Beta(s)', regress.intercept_, regress.coef_)\n",
    "        \n",
    "    # Evaluate the model using Leave-one-out cross-validation (cv = len(X)) to get the MSE estimate\n",
    "    mse_est = np.append(mse_est, -np.mean(cross_val_score(regress, poly.fit_transform(X), y, \n",
    "                                                               scoring='neg_mean_squared_error', cv=len(X))))\n",
    "    \n",
    "# In the above line we negated the score results. This was a poor choice in sklearn see:\n",
    "# https://github.com/scikit-learn/scikit-learn/issues/2439 for details\n",
    "\n",
    "# print the estimated test MSEs for each model\n",
    "print('\\nThe estimated test MSEs = ', mse_est)\n",
    "# plot the estimate \n",
    "fig, ax = plt.subplots(figsize=(6, 4))\n",
    "ax.plot(orders, mse_est, linestyle='-.', marker='o', color='k')\n",
    "ax.set_xlabel('Polynomial Order')\n",
    "ax.set_ylabel('LOOCV Error Rate')"
   ]
  },
  {
   "cell_type": "markdown",
   "metadata": {
    "collapsed": false
   },
   "source": [
    "## 5.3.3 k-Fold Cross Validation"
   ]
  },
  {
   "cell_type": "markdown",
   "metadata": {},
   "source": [
    " We simply copy the lines of code above using 10 folds instead of n folds in the cross-validation to be explicit."
   ]
  },
  {
   "cell_type": "code",
   "execution_count": 6,
   "metadata": {
    "collapsed": false
   },
   "outputs": [
    {
     "name": "stdout",
     "output_type": "stream",
     "text": [
      "Coefficients: Intercept, Beta(s) 39.93586102117047 [-0.1578]\n",
      "Coefficients: Intercept, Beta(s) 56.90009970211294 [-0.4662  0.0012]\n",
      "Coefficients: Intercept, Beta(s) 60.68478490666064 [-5.6885e-01  2.0790e-03 -2.1466e-06]\n",
      "Coefficients: Intercept, Beta(s) 47.56767723217467 [-7.6672e-02 -4.3446e-03  3.2451e-05 -6.5304e-08]\n",
      "Coefficients: Intercept, Beta(s) -32.23055991977358 [ 3.7001e+00 -7.1424e-02  5.9311e-04 -2.2811e-06  3.3296e-09]\n",
      "\n",
      "The estimated test MSEs =  [27.4399 21.2358 21.3366 21.3539 20.9056]\n"
     ]
    },
    {
     "data": {
      "image/png": "[encoded data removed]",
      "text/plain": [
       "<Figure size 600x400 with 1 Axes>"
      ]
     },
     "metadata": {},
     "output_type": "display_data"
    }
   ],
   "source": [
    "# Perform k-Fold CV for 5 Polynomial Models #\n",
    "#############################################\n",
    "# We will create models of order 1 through 5, fit and perform k-Fold CV\n",
    "\n",
    "# create arrays for polnomial order and error estimates\n",
    "orders = np.arange(1,6)\n",
    "mse_est = np.array([])\n",
    "\n",
    "for index, order in enumerate(orders):\n",
    "    # create a polynomial of degree order\n",
    "    poly = PolynomialFeatures(degree=order,interaction_only=False, include_bias=False)\n",
    "        \n",
    "    # create a linear model and Fit\n",
    "    regress = LinearRegression()\n",
    "    regress.fit(poly.fit_transform(X),y)\n",
    "        \n",
    "    # print the coeffecients\n",
    "    print('Coefficients: Intercept, Beta(s)', regress.intercept_, regress.coef_)\n",
    "        \n",
    "    # Evaluate the model using 10-fold cross-validation (cv = 10) to get the MSE estimate\n",
    "    mse_est = np.append(mse_est, -np.mean(cross_val_score(regress, poly.fit_transform(X), y, \n",
    "                                                               scoring='neg_mean_squared_error', cv=10)))\n",
    "    \n",
    "# In the above line we negated the score results. This was a poor choice in sklearn see:\n",
    "# https://github.com/scikit-learn/scikit-learn/issues/2439 for details\n",
    "\n",
    "# print the estimated test MSEs for each model\n",
    "print('\\nThe estimated test MSEs = ', mse_est)\n",
    "# plt the estimate \n",
    "fig , ax = plt.subplots(figsize=(6,4))\n",
    "ax.plot(orders,mse_est,linestyle = '-.', marker='o',color='k');\n",
    "ax.set_xlabel('Polynomial Order');\n",
    "ax.set_ylabel('10-Fold CV Error Rate');"
   ]
  },
  {
   "cell_type": "markdown",
   "metadata": {
    "collapsed": true
   },
   "source": [
    "## 5.3.4 The Bootstrap"
   ]
  },
  {
   "cell_type": "code",
   "execution_count": 7,
   "metadata": {},
   "outputs": [],
   "source": [
    "#from ISLP import load_data\n",
    "#portfolio = load_data('Portfolio')\n",
    "#portfolio.columns"
   ]
  },
  {
   "cell_type": "code",
   "execution_count": 8,
   "metadata": {
    "collapsed": false
   },
   "outputs": [
    {
     "name": "stdout",
     "output_type": "stream",
     "text": [
      "0.560336658007497\n"
     ]
    }
   ],
   "source": [
    "# We first need a function aplha to return the alpha statistic eqn. 5.7 in the text\n",
    "def alpha(df, num_samples=100):\n",
    "    \"\"\" \n",
    "    Returns the alpha statistic for num_saples of elements from dataframe df.\n",
    "    \"\"\"\n",
    "    # make a num_samples random choice of indices WITH REPLACEMENT\n",
    "    indices = np.random.choice(df.index, num_samples, replace=True)\n",
    "    # Get X,Y\n",
    "    X = df.X[indices].values\n",
    "    Y = df.Y[indices].values\n",
    "    \n",
    "    # np.cov returns full cov matrix we need [0][1] cov(x,y)\n",
    "    return (np.var(Y) - np.cov(X,Y)[0][1])/(np.var(X) + np.var(Y) - 2*np.cov(X,Y)[0][1])\n",
    "\n",
    "# test it out,\n",
    "np.random.seed(0)\n",
    "print(alpha(portfolio))"
   ]
  },
  {
   "cell_type": "code",
   "execution_count": 9,
   "metadata": {
    "collapsed": false,
    "scrolled": false
   },
   "outputs": [
    {
     "name": "stdout",
     "output_type": "stream",
     "text": [
      "\n",
      "Bootstrapped Std. Error(s) = 0.08980409161302538\n"
     ]
    }
   ],
   "source": [
    "# Scikits.bootstrap has a bootstrap method for computing the confidence intervals of an estimated statistic but we \n",
    "# would need to calculate the SE. It's just as easy to write a quick function to compute the SE directly.\n",
    "def boot(data, statsfunc, num_bootstrap_samples=1000):\n",
    "    \"\"\"\n",
    "    Returns the SE of the statistic returned by statsfunc when applied to data using num_bootstrap samples.\n",
    "    \"\"\"\n",
    "    stat_samples = []\n",
    "    for sample in range(num_bootstrap_samples):\n",
    "        # apply our stats_func to generate a sample statistic\n",
    "        stat_samples.append(statsfunc(data))\n",
    "    # compute the std of the statistic samples\n",
    "    se_estimate = np.std(stat_samples,axis=0)\n",
    "    \n",
    "    print('\\nBootstrapped Std. Error(s) =', se_estimate)\n",
    "\n",
    "np.random.seed(0)\n",
    "boot(portfolio, alpha, 1000)\n"
   ]
  },
  {
   "cell_type": "markdown",
   "metadata": {
    "collapsed": true
   },
   "source": [
    "In Chapter 3, we fit a linear model for the MPG of an automobile as a function of horsepower. Statsmodels ouptput the std error of the coeffecients $\\beta_0$ and $\\beta_1$ using formula 3.8 which uses estimates of the variance via the RSE (see page 66). We will now compare these coeffecient standard errors with the bootstrap estimates of the coeffecient standard errors. "
   ]
  },
  {
   "cell_type": "code",
   "execution_count": 10,
   "metadata": {
    "collapsed": false
   },
   "outputs": [
    {
     "name": "stdout",
     "output_type": "stream",
     "text": [
      "                            OLS Regression Results                            \n",
      "==============================================================================\n",
      "Dep. Variable:                    mpg   R-squared:                       0.606\n",
      "Model:                            OLS   Adj. R-squared:                  0.605\n",
      "Method:                 Least Squares   F-statistic:                     599.7\n",
      "Date:                Sun, 08 Sep 2024   Prob (F-statistic):           7.03e-81\n",
      "Time:                        23:19:29   Log-Likelihood:                -1178.7\n",
      "No. Observations:                 392   AIC:                             2361.\n",
      "Df Residuals:                     390   BIC:                             2369.\n",
      "Df Model:                           1                                         \n",
      "Covariance Type:            nonrobust                                         \n",
      "==============================================================================\n",
      "                 coef    std err          t      P>|t|      [0.025      0.975]\n",
      "------------------------------------------------------------------------------\n",
      "const         39.9359      0.717     55.660      0.000      38.525      41.347\n",
      "horsepower    -0.1578      0.006    -24.489      0.000      -0.171      -0.145\n",
      "==============================================================================\n",
      "Omnibus:                       16.432   Durbin-Watson:                   0.920\n",
      "Prob(Omnibus):                  0.000   Jarque-Bera (JB):               17.305\n",
      "Skew:                           0.492   Prob(JB):                     0.000175\n",
      "Kurtosis:                       3.299   Cond. No.                         322.\n",
      "==============================================================================\n",
      "\n",
      "Notes:\n",
      "[1] Standard Errors assume that the covariance matrix of the errors is correctly specified.\n",
      "\n",
      "A sample bootstrap estimate:\n",
      "  const         40.480439\n",
      "horsepower    -0.161562\n",
      "dtype: float64\n",
      "\n",
      "Bootstrapped Std. Error(s) = [0.8529 0.0073]\n"
     ]
    }
   ],
   "source": [
    "# Create Design Matrix and Response #\n",
    "#####################################\n",
    "X = sm.add_constant(auto.horsepower)\n",
    "y = auto.mpg\n",
    "\n",
    "# Create a Linear Model and Fit #\n",
    "#################################\n",
    "model = sm.OLS(y,X)\n",
    "results = model.fit()\n",
    "print(results.summary())\n",
    "\n",
    "# Create Func to Generate Coeffecients #\n",
    "########################################\n",
    "# we create a function that returns a sample set of coeffecients for a sample fit\n",
    "def auto_coeffs(data, num_samples=392):\n",
    "    \"\"\"\n",
    "    Returns a set of fit coeffecients for the model mpg ~ horsepower using num_samples of data with replacement \n",
    "    \"\"\"\n",
    "    indices = np.random.choice(data.index, num_samples, replace=True)\n",
    "    X = sm.add_constant(data.horsepower[indices])\n",
    "    y = data.mpg[indices]\n",
    "    \n",
    "    results = sm.OLS(y,X).fit()\n",
    "    \n",
    "    return results.params\n",
    "    \n",
    "# test it out\n",
    "np.random.seed(0)\n",
    "print('\\nA sample bootstrap estimate:\\n ',auto_coeffs(auto))\n",
    "\n",
    "# Compare Estimated Standard Errors #\n",
    "#####################################\n",
    "# Above we fit a model and used Eqn. 3.8 to compute the SE. Lets see what the bootstrap estimate of SE returns...\n",
    "\n",
    "# call our boot function from above which prints out the bootstrapped standard errors\n",
    "boot(auto, auto_coeffs, num_bootstrap_samples=1000)"
   ]
  },
  {
   "cell_type": "markdown",
   "metadata": {},
   "source": [
    "Notice that the standard errors computed by statsmodels are not exactly the same as the bootstrapped standard errors. Remember that the formulas, 3.8 in text, requires estimating the variance $\\sigma^2$ as $\\frac{RSS}{n-2}$. The bootstrap estimates do not make any assumptions about the data and are likely closer to true SE."
   ]
  }
 ],
 "metadata": {
  "kernelspec": {
   "display_name": "Python 3",
   "language": "python",
   "name": "python3"
  },
  "language_info": {
   "codemirror_mode": {
    "name": "ipython",
    "version": 3
   },
   "file_extension": ".py",
   "mimetype": "text/x-python",
   "name": "python",
   "nbconvert_exporter": "python",
   "pygments_lexer": "ipython3",
   "version": "3.10.6"
  }
 },
 "nbformat": 4,
 "nbformat_minor": 0
}
